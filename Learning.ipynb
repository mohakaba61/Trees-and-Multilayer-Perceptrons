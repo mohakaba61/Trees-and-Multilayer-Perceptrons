{
  "cells": [
    {
      "cell_type": "markdown",
      "metadata": {
        "id": "Gd7scc-8QJvE"
      },
      "source": [
        "## CS441: Applied ML - HW 4"
      ]
    },
    {
      "cell_type": "markdown",
      "source": [
        "### Part 1: Model Complexity and Tree-based Regressors\n",
        "\n",
        "One measure of a tree’s complexity is the maximum tree depth. Train tree, random forest, and boosted tree regressors on the temperature regression task, using all default parameters except:\n",
        "\n",
        "\n",
        "*   max_depth={2,4,8,16,32}\n",
        "*   random_state=0\n",
        "*   For random forest: max_features=1/3\n",
        "\n",
        "Measure train and val RMSE for each and plot them all on the same plot using the provided plot_depth_error function. You should have six lines (train/val for each model type), each with 5 data points (one for each max depth value).  Include the plot and answer the analysis questions in the report."
      ],
      "metadata": {
        "id": "B3Bmk_x8P4uu"
      }
    },
    {
      "cell_type": "code",
      "source": [
        "import numpy as np\n",
        "from google.colab import drive\n",
        "%matplotlib inline\n",
        "from matplotlib import pyplot as plt\n",
        "\n",
        "# load data (modify to match your data directory or comment)\n",
        "def load_temp_data():\n",
        "  drive.mount('/content/drive')\n",
        "  datadir = \"/content/drive/My Drive/Colab Notebooks/\"\n",
        "  T = np.load(datadir + 'temperature_data.npz')\n",
        "  x_train, y_train, x_val, y_val, x_test, y_test, dates_train, dates_val, dates_test, feature_to_city, feature_to_day = \\\n",
        "  T['x_train'], T['y_train'], T['x_val'], T['y_val'], T['x_test'], T['y_test'], T['dates_train'], T['dates_val'], T['dates_test'], T['feature_to_city'], T['feature_to_day']\n",
        "  return (x_train, y_train, x_val, y_val, x_test, y_test, dates_train, dates_val, dates_test, feature_to_city, feature_to_day)\n",
        "\n",
        "# plot one data point for listed cities and target temperature\n",
        "def plot_temps(x, y, cities, feature_to_city, feature_to_day, target_date):\n",
        "  nc = len(cities)\n",
        "  ndays = 5\n",
        "  xplot = np.array([-5,-4,-3,-2,-1])\n",
        "  yplot = np.zeros((nc,ndays))\n",
        "  for f in np.arange(len(x)):\n",
        "    for c in np.arange(nc):\n",
        "      if cities[c]==feature_to_city[f]:\n",
        "        yplot[feature_to_day[f]+ndays,c] = x[f]\n",
        "  plt.plot(xplot,yplot)\n",
        "  plt.legend(cities)\n",
        "  plt.plot(0, y, 'b*', markersize=10)\n",
        "  plt.title('Predict Temp for Cleveland on ' + target_date)\n",
        "  plt.xlabel('Day')\n",
        "  plt.ylabel('Avg Temp (C)')\n",
        "  plt.show()\n",
        "\n",
        "# load data\n",
        "(x_train, y_train, x_val, y_val, x_test, y_test, dates_train, dates_val, dates_test, feature_to_city, feature_to_day) = load_temp_data()"
      ],
      "metadata": {
        "id": "auYU3RgZQSKv",
        "colab": {
          "base_uri": "https://localhost:8080/",
          "height": 365
        },
        "outputId": "c0801c2b-3f49-4278-80a8-0bc6f3c92252",
        "collapsed": true
      },
      "execution_count": null,
      "outputs": [
        {
          "output_type": "error",
          "ename": "MessageError",
          "evalue": "Error: credential propagation was unsuccessful",
          "traceback": [
            "\u001b[0;31m---------------------------------------------------------------------------\u001b[0m",
            "\u001b[0;31mMessageError\u001b[0m                              Traceback (most recent call last)",
            "\u001b[0;32m<ipython-input-1-76d018e0abe3>\u001b[0m in \u001b[0;36m<cell line: 34>\u001b[0;34m()\u001b[0m\n\u001b[1;32m     32\u001b[0m \u001b[0;34m\u001b[0m\u001b[0m\n\u001b[1;32m     33\u001b[0m \u001b[0;31m# load data\u001b[0m\u001b[0;34m\u001b[0m\u001b[0;34m\u001b[0m\u001b[0m\n\u001b[0;32m---> 34\u001b[0;31m \u001b[0;34m(\u001b[0m\u001b[0mx_train\u001b[0m\u001b[0;34m,\u001b[0m \u001b[0my_train\u001b[0m\u001b[0;34m,\u001b[0m \u001b[0mx_val\u001b[0m\u001b[0;34m,\u001b[0m \u001b[0my_val\u001b[0m\u001b[0;34m,\u001b[0m \u001b[0mx_test\u001b[0m\u001b[0;34m,\u001b[0m \u001b[0my_test\u001b[0m\u001b[0;34m,\u001b[0m \u001b[0mdates_train\u001b[0m\u001b[0;34m,\u001b[0m \u001b[0mdates_val\u001b[0m\u001b[0;34m,\u001b[0m \u001b[0mdates_test\u001b[0m\u001b[0;34m,\u001b[0m \u001b[0mfeature_to_city\u001b[0m\u001b[0;34m,\u001b[0m \u001b[0mfeature_to_day\u001b[0m\u001b[0;34m)\u001b[0m \u001b[0;34m=\u001b[0m \u001b[0mload_temp_data\u001b[0m\u001b[0;34m(\u001b[0m\u001b[0;34m)\u001b[0m\u001b[0;34m\u001b[0m\u001b[0;34m\u001b[0m\u001b[0m\n\u001b[0m",
            "\u001b[0;32m<ipython-input-1-76d018e0abe3>\u001b[0m in \u001b[0;36mload_temp_data\u001b[0;34m()\u001b[0m\n\u001b[1;32m      6\u001b[0m \u001b[0;31m# load data (modify to match your data directory or comment)\u001b[0m\u001b[0;34m\u001b[0m\u001b[0;34m\u001b[0m\u001b[0m\n\u001b[1;32m      7\u001b[0m \u001b[0;32mdef\u001b[0m \u001b[0mload_temp_data\u001b[0m\u001b[0;34m(\u001b[0m\u001b[0;34m)\u001b[0m\u001b[0;34m:\u001b[0m\u001b[0;34m\u001b[0m\u001b[0;34m\u001b[0m\u001b[0m\n\u001b[0;32m----> 8\u001b[0;31m   \u001b[0mdrive\u001b[0m\u001b[0;34m.\u001b[0m\u001b[0mmount\u001b[0m\u001b[0;34m(\u001b[0m\u001b[0;34m'/content/drive'\u001b[0m\u001b[0;34m)\u001b[0m\u001b[0;34m\u001b[0m\u001b[0;34m\u001b[0m\u001b[0m\n\u001b[0m\u001b[1;32m      9\u001b[0m   \u001b[0mdatadir\u001b[0m \u001b[0;34m=\u001b[0m \u001b[0;34m\"/content/drive/My Drive/Colab Notebooks/\"\u001b[0m\u001b[0;34m\u001b[0m\u001b[0;34m\u001b[0m\u001b[0m\n\u001b[1;32m     10\u001b[0m   \u001b[0mT\u001b[0m \u001b[0;34m=\u001b[0m \u001b[0mnp\u001b[0m\u001b[0;34m.\u001b[0m\u001b[0mload\u001b[0m\u001b[0;34m(\u001b[0m\u001b[0mdatadir\u001b[0m \u001b[0;34m+\u001b[0m \u001b[0;34m'temperature_data.npz'\u001b[0m\u001b[0;34m)\u001b[0m\u001b[0;34m\u001b[0m\u001b[0;34m\u001b[0m\u001b[0m\n",
            "\u001b[0;32m/usr/local/lib/python3.10/dist-packages/google/colab/drive.py\u001b[0m in \u001b[0;36mmount\u001b[0;34m(mountpoint, force_remount, timeout_ms, readonly)\u001b[0m\n\u001b[1;32m     98\u001b[0m \u001b[0;32mdef\u001b[0m \u001b[0mmount\u001b[0m\u001b[0;34m(\u001b[0m\u001b[0mmountpoint\u001b[0m\u001b[0;34m,\u001b[0m \u001b[0mforce_remount\u001b[0m\u001b[0;34m=\u001b[0m\u001b[0;32mFalse\u001b[0m\u001b[0;34m,\u001b[0m \u001b[0mtimeout_ms\u001b[0m\u001b[0;34m=\u001b[0m\u001b[0;36m120000\u001b[0m\u001b[0;34m,\u001b[0m \u001b[0mreadonly\u001b[0m\u001b[0;34m=\u001b[0m\u001b[0;32mFalse\u001b[0m\u001b[0;34m)\u001b[0m\u001b[0;34m:\u001b[0m\u001b[0;34m\u001b[0m\u001b[0;34m\u001b[0m\u001b[0m\n\u001b[1;32m     99\u001b[0m   \u001b[0;34m\"\"\"Mount your Google Drive at the specified mountpoint path.\"\"\"\u001b[0m\u001b[0;34m\u001b[0m\u001b[0;34m\u001b[0m\u001b[0m\n\u001b[0;32m--> 100\u001b[0;31m   return _mount(\n\u001b[0m\u001b[1;32m    101\u001b[0m       \u001b[0mmountpoint\u001b[0m\u001b[0;34m,\u001b[0m\u001b[0;34m\u001b[0m\u001b[0;34m\u001b[0m\u001b[0m\n\u001b[1;32m    102\u001b[0m       \u001b[0mforce_remount\u001b[0m\u001b[0;34m=\u001b[0m\u001b[0mforce_remount\u001b[0m\u001b[0;34m,\u001b[0m\u001b[0;34m\u001b[0m\u001b[0;34m\u001b[0m\u001b[0m\n",
            "\u001b[0;32m/usr/local/lib/python3.10/dist-packages/google/colab/drive.py\u001b[0m in \u001b[0;36m_mount\u001b[0;34m(mountpoint, force_remount, timeout_ms, ephemeral, readonly)\u001b[0m\n\u001b[1;32m    135\u001b[0m   )\n\u001b[1;32m    136\u001b[0m   \u001b[0;32mif\u001b[0m \u001b[0mephemeral\u001b[0m\u001b[0;34m:\u001b[0m\u001b[0;34m\u001b[0m\u001b[0;34m\u001b[0m\u001b[0m\n\u001b[0;32m--> 137\u001b[0;31m     _message.blocking_request(\n\u001b[0m\u001b[1;32m    138\u001b[0m         \u001b[0;34m'request_auth'\u001b[0m\u001b[0;34m,\u001b[0m\u001b[0;34m\u001b[0m\u001b[0;34m\u001b[0m\u001b[0m\n\u001b[1;32m    139\u001b[0m         \u001b[0mrequest\u001b[0m\u001b[0;34m=\u001b[0m\u001b[0;34m{\u001b[0m\u001b[0;34m'authType'\u001b[0m\u001b[0;34m:\u001b[0m \u001b[0;34m'dfs_ephemeral'\u001b[0m\u001b[0;34m}\u001b[0m\u001b[0;34m,\u001b[0m\u001b[0;34m\u001b[0m\u001b[0;34m\u001b[0m\u001b[0m\n",
            "\u001b[0;32m/usr/local/lib/python3.10/dist-packages/google/colab/_message.py\u001b[0m in \u001b[0;36mblocking_request\u001b[0;34m(request_type, request, timeout_sec, parent)\u001b[0m\n\u001b[1;32m    174\u001b[0m       \u001b[0mrequest_type\u001b[0m\u001b[0;34m,\u001b[0m \u001b[0mrequest\u001b[0m\u001b[0;34m,\u001b[0m \u001b[0mparent\u001b[0m\u001b[0;34m=\u001b[0m\u001b[0mparent\u001b[0m\u001b[0;34m,\u001b[0m \u001b[0mexpect_reply\u001b[0m\u001b[0;34m=\u001b[0m\u001b[0;32mTrue\u001b[0m\u001b[0;34m\u001b[0m\u001b[0;34m\u001b[0m\u001b[0m\n\u001b[1;32m    175\u001b[0m   )\n\u001b[0;32m--> 176\u001b[0;31m   \u001b[0;32mreturn\u001b[0m \u001b[0mread_reply_from_input\u001b[0m\u001b[0;34m(\u001b[0m\u001b[0mrequest_id\u001b[0m\u001b[0;34m,\u001b[0m \u001b[0mtimeout_sec\u001b[0m\u001b[0;34m)\u001b[0m\u001b[0;34m\u001b[0m\u001b[0;34m\u001b[0m\u001b[0m\n\u001b[0m",
            "\u001b[0;32m/usr/local/lib/python3.10/dist-packages/google/colab/_message.py\u001b[0m in \u001b[0;36mread_reply_from_input\u001b[0;34m(message_id, timeout_sec)\u001b[0m\n\u001b[1;32m    101\u001b[0m     ):\n\u001b[1;32m    102\u001b[0m       \u001b[0;32mif\u001b[0m \u001b[0;34m'error'\u001b[0m \u001b[0;32min\u001b[0m \u001b[0mreply\u001b[0m\u001b[0;34m:\u001b[0m\u001b[0;34m\u001b[0m\u001b[0;34m\u001b[0m\u001b[0m\n\u001b[0;32m--> 103\u001b[0;31m         \u001b[0;32mraise\u001b[0m \u001b[0mMessageError\u001b[0m\u001b[0;34m(\u001b[0m\u001b[0mreply\u001b[0m\u001b[0;34m[\u001b[0m\u001b[0;34m'error'\u001b[0m\u001b[0;34m]\u001b[0m\u001b[0;34m)\u001b[0m\u001b[0;34m\u001b[0m\u001b[0;34m\u001b[0m\u001b[0m\n\u001b[0m\u001b[1;32m    104\u001b[0m       \u001b[0;32mreturn\u001b[0m \u001b[0mreply\u001b[0m\u001b[0;34m.\u001b[0m\u001b[0mget\u001b[0m\u001b[0;34m(\u001b[0m\u001b[0;34m'data'\u001b[0m\u001b[0;34m,\u001b[0m \u001b[0;32mNone\u001b[0m\u001b[0;34m)\u001b[0m\u001b[0;34m\u001b[0m\u001b[0;34m\u001b[0m\u001b[0m\n\u001b[1;32m    105\u001b[0m \u001b[0;34m\u001b[0m\u001b[0m\n",
            "\u001b[0;31mMessageError\u001b[0m: Error: credential propagation was unsuccessful"
          ]
        }
      ]
    },
    {
      "cell_type": "code",
      "source": [
        "# to plot the errors\n",
        "def plot_depth_error(max_depths, tree_train_err, tree_val_err, rf_train_err, rf_val_err, bt_train_err, bt_val_err):\n",
        "  plt.figure()\n",
        "  plt.semilogx(max_depths, tree_train_err, 'r.--',label='tree train')\n",
        "  plt.semilogx(max_depths, tree_val_err, 'r.-', label='tree val')\n",
        "  plt.semilogx(max_depths, rf_train_err, 'g.--',label='RF train')\n",
        "  plt.semilogx(max_depths, rf_val_err, 'g.-', label='RF val')\n",
        "  plt.semilogx(max_depths, bt_train_err, 'b.--',label='BT train')\n",
        "  plt.semilogx(max_depths, bt_val_err, 'b.-', label='BT val')\n",
        "  plt.ylabel('RMSE Error')\n",
        "  plt.xlabel('Max Tree Depth')\n",
        "  plt.xticks(max_depths, max_depths)\n",
        "  plt.legend()\n",
        "  plt.rcParams.update({'font.size': 20})\n",
        "  plt.show()"
      ],
      "metadata": {
        "id": "S1_zngBjRGji"
      },
      "execution_count": null,
      "outputs": []
    },
    {
      "cell_type": "code",
      "source": [
        "from sklearn import tree\n",
        "from sklearn.tree import DecisionTreeRegressor\n",
        "from sklearn.ensemble import RandomForestRegressor\n",
        "from sklearn.ensemble import GradientBoostingRegressor\n",
        "from sklearn.metrics import mean_squared_error"
      ],
      "metadata": {
        "id": "sTTcKXIcVOns"
      },
      "execution_count": null,
      "outputs": []
    },
    {
      "cell_type": "markdown",
      "source": [],
      "metadata": {
        "id": "DotfcX36VNg2"
      }
    },
    {
      "cell_type": "code",
      "source": [
        "from sklearn import tree\n",
        "from sklearn.tree import DecisionTreeRegressor\n",
        "from sklearn.ensemble import RandomForestRegressor\n",
        "from sklearn.ensemble import GradientBoostingRegressor\n",
        "from sklearn.metrics import mean_squared_error\n",
        "\n",
        "max_depths = [2,4,8,16,32]\n",
        "\n",
        "tree_train_err, tree_val_err = [], []\n",
        "rf_train_err, rf_val_err = [], []\n",
        "bt_train_err, bt_val_err = [], []\n",
        "# usage examples\n",
        "# model = DecisionTreeRegressor(random_state=0, max_depth=max_depths)\n",
        "for max_depth in max_depths:\n",
        "  tree_model = DecisionTreeRegressor(random_state=0, max_depth=max_depth)\n",
        "  tree_model.fit(x_train, y_train)\n",
        "  tree_train_err.append(np.sqrt(mean_squared_error(y_train, tree_model.predict(x_train))))\n",
        "  tree_val_err.append(np.sqrt(mean_squared_error(y_val, tree_model.predict(x_val))))\n",
        "\n",
        "  rf_model = RandomForestRegressor(random_state=0, max_depth=max_depth, max_features=1/3)\n",
        "  rf_model.fit(x_train, y_train)\n",
        "  rf_train_err.append(np.sqrt(mean_squared_error(y_train, rf_model.predict(x_train))))\n",
        "  rf_val_err.append(np.sqrt(mean_squared_error(y_val, rf_model.predict(x_val))))\n",
        "\n",
        "  # Train GradientBoostingRegressor\n",
        "  bt_model = GradientBoostingRegressor(random_state=0, max_depth=max_depth)\n",
        "  bt_model.fit(x_train, y_train)\n",
        "  bt_train_err.append(np.sqrt(mean_squared_error(y_train, bt_model.predict(x_train))))\n",
        "  bt_val_err.append(np.sqrt(mean_squared_error(y_val, bt_model.predict(x_val))))\n",
        "\n",
        "# Plot the RMSE for each model\n",
        "plot_depth_error(max_depths, tree_train_err, tree_val_err, rf_train_err, rf_val_err, bt_train_err, bt_val_err)\n",
        "\n",
        "# model = RandomForestRegressor(random_state=0, max_depth=max_depth, max_features=1/3)\n",
        "# model = GradientBoostingRegressor(random_state=0, max_depth=max_depth)\n",
        "\n"
      ],
      "metadata": {
        "id": "SAxmPVgcQiUI",
        "colab": {
          "base_uri": "https://localhost:8080/",
          "height": 449
        },
        "outputId": "c92ff093-305d-4f89-d6bc-6358604ab1c0"
      },
      "execution_count": null,
      "outputs": [
        {
          "output_type": "display_data",
          "data": {
            "text/plain": [
              "<Figure size 640x480 with 1 Axes>"
            ],
            "image/png": "[encoded data removed]"
          },
          "metadata": {}
        }
      ]
    },
    {
      "cell_type": "markdown",
      "metadata": {
        "id": "QagOldZDQJvG"
      },
      "source": [
        "### Part 2: MLPs with MNIST\n",
        "\n",
        "For this part, you will want to use a GPU to improve runtime. Google Colab provides limited free GPU acceleration to all users. Go to Runtime and change Runtime Type to GPU.  This will reset your compute node, so do it before starting to run other cells.\n",
        "\n",
        "See [Tips](https://docs.google.com/document/d/1_kV9x1LCAFfe6UqY22eqj2eqdCZh72oQDf60zRo2ydM/edit?usp=drive_link) for detailed guidance on this problem.\n",
        "\n",
        "First, use PyTorch to implement a Multilayer Perceptron network with one hidden layer (size 64) with ReLU activation. Set the network to minimize cross-entropy loss, which is the negative log probability of the training labels given the training features. This objective function takes unnormalized logits as inputs.\n",
        "\n",
        "*Do not use MLP in sklearn for this HW - use Torch*."
      ]
    },
    {
      "cell_type": "code",
      "execution_count": null,
      "metadata": {
        "id": "vO_W4UH7NNBo"
      },
      "outputs": [],
      "source": [
        "# initialization code\n",
        "import numpy as np\n",
        "from keras.datasets import mnist\n",
        "%matplotlib inline\n",
        "from matplotlib import pyplot as plt\n",
        "from scipy import stats\n",
        "import torch\n",
        "import torch.nn as nn\n",
        "\n",
        "def load_mnist():\n",
        "  '''\n",
        "  Loads, reshapes, and normalizes the data\n",
        "  '''\n",
        "  (x_train, y_train), (x_test, y_test) = mnist.load_data() # loads MNIST data\n",
        "  x_train = np.reshape(x_train, (len(x_train), 28*28))  # reformat to 768-d vectors\n",
        "  x_test = np.reshape(x_test, (len(x_test), 28*28))\n",
        "  maxval = x_train.max()\n",
        "  x_train = x_train/maxval  # normalize values to range from 0 to 1\n",
        "  x_test = x_test/maxval\n",
        "  return (x_train, y_train), (x_test, y_test)\n",
        "\n",
        "def display_mnist(x, subplot_rows=1, subplot_cols=1):\n",
        "  '''\n",
        "  Displays one or more examples in a row or a grid\n",
        "  '''\n",
        "  if subplot_rows>1 or subplot_cols>1:\n",
        "    fig, ax = plt.subplots(subplot_rows, subplot_cols, figsize=(15,15))\n",
        "    for i in np.arange(len(x)):\n",
        "      ax[i].imshow(np.reshape(x[i], (28,28)), cmap='gray')\n",
        "      ax[i].axis('off')\n",
        "  else:\n",
        "      plt.imshow(np.reshape(x, (28,28)), cmap='gray')\n",
        "      plt.axis('off')\n",
        "  plt.show()"
      ]
    },
    {
      "cell_type": "code",
      "source": [
        "# Sets device to \"cuda\" if a GPU is available  (in Colabs, enable GPU by Edit->Notebook Settings-->Hardware Accelerator=GPU)\n",
        "device = \"cuda\" if torch.cuda.is_available() else 'cpu'\n",
        "print(device) # make sure you're using GPU instance"
      ],
      "metadata": {
        "id": "WVt-ck87nUWQ",
        "colab": {
          "base_uri": "https://localhost:8080/"
        },
        "outputId": "460a5941-6c31-42f3-c683-7f0f8838169d"
      },
      "execution_count": null,
      "outputs": [
        {
          "output_type": "stream",
          "name": "stdout",
          "text": [
            "cuda\n"
          ]
        }
      ]
    },
    {
      "cell_type": "markdown",
      "source": [
        "#### 2a\n",
        "Using the train/val split provided in the starter code, train your network for 100 epochs with learning rates of 0.01, 0.1, and 1.  Use a batch size of 256 and the SGD optimizer.  After each epoch, record the mean training and validation loss and compute the validation error of the final model. The mean validation loss should be computed after the epoch is complete.  The mean training loss can either be computed after the epoch is complete, or, for efficiency, computed using the losses accumulated during the training of the epoch.  Plot the training and validation losses using the display_error_curves function."
      ],
      "metadata": {
        "id": "R8WbDnbr58LO"
      }
    },
    {
      "cell_type": "code",
      "source": [
        "from torch.utils.data import DataLoader, TensorDataset\n",
        "(x_train, y_train), (x_test, y_test) = load_mnist()\n",
        "\n",
        "# create train/val split\n",
        "ntrain = 50000\n",
        "x_val = x_train[ntrain:].copy()\n",
        "y_val = y_train[ntrain:].copy()\n",
        "x_train = x_train[:ntrain]\n",
        "y_train = y_train[:ntrain]"
      ],
      "metadata": {
        "id": "0dwprF51fii8"
      },
      "execution_count": null,
      "outputs": []
    },
    {
      "cell_type": "code",
      "source": [
        "def display_error_curves(training_losses, validation_losses):\n",
        "  \"\"\"\n",
        "  Plots the training and validation loss curves\n",
        "  training_losses and validation_losses should be lists or arrays of the same length\n",
        "  \"\"\"\n",
        "  num_epochs = len(training_losses)\n",
        "\n",
        "  plt.plot(range(num_epochs), training_losses, label=\"Training Loss\")\n",
        "  plt.plot(range(num_epochs), validation_losses, label=\"Validation Loss\")\n",
        "\n",
        "  # Add in a title and axes labels\n",
        "  plt.title('Training and Validation Loss')\n",
        "  plt.xlabel('Epochs')\n",
        "  plt.ylabel('Loss')\n",
        "\n",
        "  # Display the plot\n",
        "  plt.legend(loc='best')\n",
        "  plt.show()"
      ],
      "metadata": {
        "id": "xBVdHhhB8UMl"
      },
      "execution_count": null,
      "outputs": []
    },
    {
      "cell_type": "code",
      "execution_count": null,
      "metadata": {
        "id": "yLhPolEhEdrt"
      },
      "outputs": [],
      "source": [
        "# Define the model\n",
        "class MLP(nn.Module):\n",
        "    def __init__(self, input_size, hidden_size, output_size):\n",
        "        super(MLP, self).__init__()\n",
        "        # Needs code here\n",
        "        self.layers= nn.Sequential(\n",
        "            torch.nn.Linear(input_size, hidden_size),\n",
        "            nn.ReLU(),\n",
        "            nn.Linear(hidden_size,output_size),\n",
        "            nn.Sigmoid()\n",
        "        )\n",
        "\n",
        "    def forward(self, x):\n",
        "      # Needs code here\n",
        "        return self.layers(x)"
      ]
    },
    {
      "cell_type": "code",
      "source": [
        "\n"
      ],
      "metadata": {
        "id": "yxyQ6-ZwEdrt"
      },
      "execution_count": null,
      "outputs": []
    },
    {
      "cell_type": "markdown",
      "source": [],
      "metadata": {
        "id": "OFoW_OsWKVev"
      }
    },
    {
      "cell_type": "code",
      "source": [],
      "metadata": {
        "id": "NhUa2vpz9BLk"
      },
      "execution_count": null,
      "outputs": []
    },
    {
      "cell_type": "code",
      "source": [
        "import torch\n",
        "import torch.nn as nn\n",
        "from torch.utils.data import DataLoader, TensorDataset\n",
        "\n",
        "# Define the model\n",
        "class MLP(nn.Module):\n",
        "    def __init__(self, input_size, hidden_size, output_size):\n",
        "        super(MLP, self).__init__()\n",
        "        self.layers= nn.Sequential(\n",
        "            torch.nn.Linear(input_size, hidden_size),\n",
        "            nn.ReLU(),\n",
        "            nn.Linear(hidden_size, output_size)\n",
        "        )\n",
        "\n",
        "    def forward(self, x):\n",
        "        return self.layers(x)\n",
        "def train_MLP_mnist(train_loader, val_loader, lr=1e-1, num_epochs=100):\n",
        "  input_size = 28*28\n",
        "  hidden_size = 64\n",
        "  output_size = 10\n",
        "\n",
        "  # Instantiate the model\n",
        "  mlp = MLP(input_size, hidden_size, output_size).to(device)\n",
        "\n",
        "  # Define loss function and optimizer\n",
        "  loss_function = torch.nn.CrossEntropyLoss()\n",
        "  optimizer = torch.optim.SGD(mlp.parameters(), lr=lr)\n",
        "\n",
        "  # Train the model, compute and store train/val loss at each epoch\n",
        "  training_losses = []\n",
        "  validation_losses = []\n",
        "\n",
        "  for epoch in range(num_epochs):\n",
        "    running_loss = 0.0\n",
        "    for i, data in enumerate(train_loader, 0):\n",
        "      inputs, targets = data\n",
        "      inputs, targets = inputs.to(device), targets.to(device)\n",
        "\n",
        "      # zero the parameter gradients\n",
        "      optimizer.zero_grad()\n",
        "\n",
        "      # forward + backward + optimize\n",
        "      outputs = mlp(inputs)\n",
        "      loss = loss_function(outputs, targets)\n",
        "      loss.backward()\n",
        "      optimizer.step()\n",
        "\n",
        "      # print statistics\n",
        "      running_loss += loss.item()\n",
        "\n",
        "    training_losses.append(running_loss / len(train_loader))\n",
        "\n",
        "    # Compute validation loss\n",
        "    val_loss, _ = evaluate_MLP(mlp, val_loader)\n",
        "    validation_losses.append(val_loss)\n",
        "\n",
        "  # Display Loss Curves\n",
        "  display_error_curves(training_losses, validation_losses)\n",
        "\n",
        "  return mlp\n",
        "\n",
        "def evaluate_MLP(mlp, loader):\n",
        "  N = 0\n",
        "  acc = 0\n",
        "  loss = 0\n",
        "  loss_function = torch.nn.CrossEntropyLoss()\n",
        "  with torch.set_grad_enabled(False):\n",
        "    for i, data in enumerate(loader, 0):\n",
        "      inputs, targets = data\n",
        "      inputs, targets = inputs.to(device), targets.to(device)\n",
        "      N += len(targets)\n",
        "\n",
        "      # Perform forward pass\n",
        "      outputs = mlp(inputs)\n",
        "\n",
        "      # Compute sum of correct labels\n",
        "      y_pred = torch.argmax(outputs, dim=1)\n",
        "      targets = torch.argmax(targets, dim=1)  # Convert one-hot encoded targets to class indices\n",
        "      acc += torch.sum(y_pred==targets).item()\n",
        "\n",
        "      # Compute loss\n",
        "      loss += loss_function(outputs, targets).item()*len(targets)\n",
        "\n",
        "  loss /= N\n",
        "  acc /= N\n",
        "\n",
        "  return loss, 1-acc\n",
        "\n",
        "\n",
        "# # Train the model\n",
        "# mlp = train_MLP_mnist(train_dl, val_dl, lr=1.5E-3, num_epochs=100)\n",
        "\n",
        "\n",
        "train_dataset = torch.utils.data.TensorDataset(torch.Tensor(x_train),torch.Tensor(np.eye(10)[y_train]))\n",
        "val_dataset = torch.utils.data.TensorDataset(torch.Tensor(x_val),torch.Tensor(np.eye(10)[y_val]))\n",
        "test_dataset = torch.utils.data.TensorDataset(torch.Tensor(x_test),torch.Tensor(np.eye(10)[y_test]))\n",
        "\n",
        "\n",
        "# Create DataLoaders\n",
        "batch_size = 256\n",
        "train_loader = DataLoader(train_dataset, batch_size=batch_size, shuffle=True)\n",
        "val_loader = DataLoader(val_dataset, batch_size=batch_size, shuffle=False)\n",
        "test_loader = DataLoader(test_dataset, batch_size=batch_size, shuffle=False)\n",
        "\n",
        "\n",
        "\n",
        "# Learning rates to experiment with\n",
        "# learning_rates = [0.001, 0.01, 0.1, 1]\n",
        "learning_rates = [1.5E-3]\n",
        "\n",
        "\n",
        "# Loop through the learning rates, training the model for each one\n",
        "for lr in learning_rates:\n",
        "    print(f\"\\nTraining with learning rate: {lr}\")\n",
        "\n",
        "    # Ensure the model is re-initialized for each learning rate\n",
        "    mlp = MLP(28*28, 64, 10).to(device)\n",
        "\n",
        "    # Train the model\n",
        "    trained_mlp = train_MLP_mnist(train_loader, val_loader, lr=lr, num_epochs=100)\n",
        "\n",
        "    # Evaluate the trained model on the validation set\n",
        "    val_loss, val_error = evaluate_MLP(trained_mlp, val_loader)\n",
        "    print(f\"Learning Rate: {lr}, Validation Loss: {val_loss:.4f}, Validation Error: {val_error:.4f}\")\n",
        "\n",
        "    train_loss, train_error = evaluate_MLP(trained_mlp, train_loader)\n",
        "    print(f\"Learning Rate: {lr}, train Loss: {val_loss:.4f}, train Error: {val_error:.4f}\")\n",
        "\n",
        "    test_loss, test_error = evaluate_MLP(trained_mlp, test_loader)\n",
        "    print(f\"Learning Rate: {lr}, test Loss: {val_loss:.4f}, test Error: {val_error:.4f}\")\n",
        "\n",
        "\n"
      ],
      "metadata": {
        "id": "MQ136e4-u5Xm"
      },
      "execution_count": null,
      "outputs": []
    },
    {
      "cell_type": "code",
      "source": [],
      "metadata": {
        "id": "eqzvGJHL51pa"
      },
      "execution_count": null,
      "outputs": []
    },
    {
      "cell_type": "markdown",
      "source": [],
      "metadata": {
        "id": "KK0TzGfl8gVa"
      }
    },
    {
      "cell_type": "code",
      "source": [
        "# Code for running experiments\n",
        "\n",
        "print(device) # make sure you're using GPU instance\n",
        "torch.manual_seed(0) # to avoid randomness, but if you wanted to create an ensemble, you should not use a manual seed\n",
        "\n",
        "# TODO (set up dataloaders, and call training function)\n",
        "import numpy as np\n",
        "import torch\n",
        "import torch.nn as nn\n",
        "import torch.optim as optim\n",
        "from torch.utils.data import DataLoader, TensorDataset\n",
        "import matplotlib.pyplot as plt\n",
        "\n",
        "# # Convert the NumPy arrays to PyTorch tensors and flatten the input images\n",
        "# x_train_tensor = torch.tensor(x_train.reshape(-1, 28*28), dtype=torch.float)\n",
        "# y_train_tensor = torch.tensor(y_train, dtype=torch.long)\n",
        "# x_val_tensor = torch.tensor(x_val.reshape(-1, 28*28), dtype=torch.float)\n",
        "# y_val_tensor = torch.tensor(y_val, dtype=torch.long)\n",
        "\n",
        "# # Create TensorDatasets\n",
        "# train_dataset = TensorDataset(x_train_tensor, y_train_tensor)\n",
        "# val_dataset = TensorDataset(x_val_tensor, y_val_tensor)\n",
        "\n",
        "\n",
        "train_dataset = torch.utils.data.TensorDataset(torch.Tensor(x_train),torch.Tensor(np.eye(10)[y_train]))\n",
        "\n",
        "val_dataset = torch.utils.data.TensorDataset(torch.Tensor(x_val),torch.Tensor(np.eye(10)[y_val]))\n",
        "\n",
        "# Create DataLoaders\n",
        "batch_size = 256\n",
        "train_loader = DataLoader(train_dataset, batch_size=batch_size, shuffle=True)\n",
        "val_loader = DataLoader(val_dataset, batch_size=batch_size, shuffle=False)\n",
        "\n",
        "# Seed for reproducibility\n",
        "torch.manual_seed(0)\n",
        "\n",
        "# Learning rates to experiment with\n",
        "learning_rates = [0.001, 0.01, 0.1, 1]\n",
        "\n",
        "# Loop through the learning rates, training the model for each one\n",
        "for lr in learning_rates:\n",
        "    print(f\"\\nTraining with learning rate: {lr}\")\n",
        "\n",
        "    # Ensure the model is re-initialized for each learning rate\n",
        "    mlp = MLP(28*28, 64, 10).to(device)\n",
        "\n",
        "    # Train the model\n",
        "    trained_mlp = train_MLP_mnist(train_loader, val_loader, lr=lr, num_epochs=100)\n",
        "\n",
        "    # Evaluate the trained model on the validation set\n",
        "    val_loss, val_error = evaluate_MLP(trained_mlp, val_loader)\n",
        "    print(f\"Learning Rate: {lr}, Validation Loss: {val_loss:.4f}, Validation Error: {val_error:.4f}\")"
      ],
      "metadata": {
        "id": "v7ElMBso4m9z"
      },
      "execution_count": null,
      "outputs": []
    },
    {
      "cell_type": "code",
      "source": [
        "!nvidia-smi"
      ],
      "metadata": {
        "id": "Iek__Fnph2r9"
      },
      "execution_count": null,
      "outputs": []
    },
    {
      "cell_type": "code",
      "source": [
        "# TO DO (retrain if needed, and evaluate model on train, val, and test sets)\n",
        "\n",
        "#for 1.5E-3 error\n",
        "def train_and_evaluate_MLP(train_loader, val_loader, test_loader, lr=1e-1, num_epochs=100):\n",
        "  input_size = 28*28\n",
        "  hidden_size = 64\n",
        "  output_size = 10\n",
        "\n",
        "  # Instantiate the model\n",
        "  mlp = MLP(input_size, hidden_size, output_size).to(device)\n",
        "\n",
        "  # Define loss function and optimizer\n",
        "  loss_function = torch.nn.CrossEntropyLoss()\n",
        "  optimizer = torch.optim.SGD(mlp.parameters(), lr=lr)\n",
        "\n",
        "  # Train the model, compute and store train/val loss at each epoch\n",
        "  for epoch in range(num_epochs):\n",
        "    running_loss = 0.0\n",
        "    for i, data in enumerate(train_loader, 0):\n",
        "      inputs, targets = data\n",
        "      inputs, targets = inputs.to(device), targets.to(device)\n",
        "\n",
        "      # zero the parameter gradients\n",
        "      optimizer.zero_grad()\n",
        "\n",
        "      # forward + backward + optimize\n",
        "      outputs = mlp(inputs)\n",
        "      targets = torch.argmax(targets, dim=1)  # Convert one-hot encoded targets to class indices\n",
        "      loss = loss_function(outputs, targets)\n",
        "      loss.backward()\n",
        "      optimizer.step()\n",
        "\n",
        "      # print statistics\n",
        "      running_loss += loss.item()\n",
        "\n",
        "  # Compute training loss and error\n",
        "  train_loss, train_error = evaluate_MLP(mlp, train_loader)\n",
        "  print(f'Training Loss: {train_loss:.1E}')\n",
        "  print(f'Training Error (%): {train_error*100:.2f}')\n",
        "\n",
        "  # Compute validation loss and error\n",
        "  val_loss, val_error = evaluate_MLP(mlp, val_loader)\n",
        "  print(f'Validation Loss: {val_loss:.1E}')\n",
        "  print(f'Validation Error (%): {val_error*100:.2f}')\n",
        "\n",
        "  # Compute test loss and error\n",
        "  test_loss, test_error = evaluate_MLP(mlp, test_loader)\n",
        "  print(f'Test Loss: {test_loss:.1E}')\n",
        "  print(f'Test Error (%): {test_error*100:.2f}')\n",
        "\n",
        "  return mlp\n",
        "\n",
        "# Create dataloaders\n",
        "train_dataset = torch.utils.data.TensorDataset(torch.Tensor(x_train),torch.Tensor(np.eye(10)[y_train]))\n",
        "train_dl = DataLoader(train_dataset, batch_size=256, shuffle=True)\n",
        "\n",
        "val_dataset = torch.utils.data.TensorDataset(torch.Tensor(x_val),torch.Tensor(np.eye(10)[y_val]))\n",
        "val_dl = DataLoader(val_dataset, batch_size=256 * 2)\n",
        "\n",
        "test_dataset = torch.utils.data.TensorDataset(torch.Tensor(x_test),torch.Tensor(np.eye(10)[y_test]))\n",
        "test_dl = DataLoader(test_dataset, batch_size=256 * 2)\n",
        "\n",
        "# Train the model and report losses and errors\n",
        "mlp = train_and_evaluate_MLP(train_dl, val_dl, test_dl, lr=1.5E-3, num_epochs=100)"
      ],
      "metadata": {
        "id": "RoeE5BxXAqqi"
      },
      "execution_count": null,
      "outputs": []
    },
    {
      "cell_type": "markdown",
      "source": [],
      "metadata": {
        "id": "QgO8aghVgIWJ"
      }
    },
    {
      "cell_type": "markdown",
      "source": [
        "## Part 3: Predicting Penguin Species\n",
        "\n",
        "Include all your code for part 3 in this section.  "
      ],
      "metadata": {
        "id": "F49MYTryhPJB"
      }
    },
    {
      "cell_type": "code",
      "source": [
        "import numpy as np\n",
        "from google.colab import drive\n",
        "%matplotlib inline\n",
        "from matplotlib import pyplot as plt\n",
        "import pandas as pd\n",
        "import seaborn as sns\n",
        "#styling preferences for sns\n",
        "sns.set_style('whitegrid')\n",
        "sns.set_context('poster')\n",
        "drive.mount('/content/gdrive/')\n",
        "datadir = \"/content/gdrive/MyDrive/Colab Notebooks/\"\n",
        "df_penguins = pd.read_csv(datadir + 'penguins_size.csv')\n",
        "df_penguins.head(10)\n",
        "\n",
        "# convert features with multiple string values to binary features so they can be used by sklearn\n",
        "def get_penguin_xy(df_penguins):\n",
        "  data = np.array(df_penguins[['island', 'culmen_length_mm', 'culmen_depth_mm', 'flipper_length_mm', 'body_mass_g', 'sex']])\n",
        "  y = df_penguins['species']\n",
        "  ui = np.unique(data[:,0]) # unique island\n",
        "  us = np.unique(data[:,-1]) # unique sex\n",
        "  X = np.zeros((len(y), 10))\n",
        "  for i in range(len(y)):\n",
        "    f = 0\n",
        "    for j in range(len(ui)):\n",
        "      if data[i, f]==ui[j]:\n",
        "        X[i, f+j] = 1\n",
        "    f = f + len(ui)\n",
        "    X[i, f:(f+4)] = data[i, 1:5]\n",
        "    f=f+4\n",
        "    for j in range(len(us)):\n",
        "      if data[i, 5]==us[j]:\n",
        "        X[i, f+j] = 1\n",
        "  feature_names = ['island_biscoe', 'island_dream', 'island_torgersen', 'culmen_length_mm', 'culmen_depth_mm', 'flipper_length_mm', 'body_mass_g', 'sex_female', 'sex_male', 'sex_unknown']\n",
        "  X = pd.DataFrame(X, columns=feature_names)\n",
        "  return(X, y, feature_names, np.unique(y))"
      ],
      "metadata": {
        "id": "u9i_hB-UQWDp",
        "colab": {
          "base_uri": "https://localhost:8080/"
        },
        "outputId": "d32c58cc-45dc-45d4-d66b-4e86bad1b2f9"
      },
      "execution_count": null,
      "outputs": [
        {
          "output_type": "stream",
          "name": "stdout",
          "text": [
            "Mounted at /content/gdrive/\n"
          ]
        }
      ]
    },
    {
      "cell_type": "markdown",
      "source": [
        "#### 3a\n",
        "Spend some time to visualize different pairs of features and their relationships to the species.  We’ve done one for you.  Include in your report at least two other visualizations."
      ],
      "metadata": {
        "id": "xeZciiipC3tH"
      }
    },
    {
      "cell_type": "code",
      "source": [
        "def plot_scatter(feature1, feature2):\n",
        "  '''\n",
        "  Provide names of two features to create a scatterplot of them\n",
        "  E.g. plot_scatter('culmen_length_mm', 'culmen_depth_mm')\n",
        "  Possible features: 'culmen_length_mm', 'culmen_depth_mm', 'flipper_length_mm', 'body_mass_g'\n",
        "  '''\n",
        "\n",
        "  palette = [\"red\", \"blue\", \"orange\"]\n",
        "\n",
        "  sns.scatterplot(data=df_penguins, x = feature1, y = feature2,\n",
        "               hue = 'species', palette=palette, alpha=0.8)\n",
        "  # Doc: https://seaborn.pydata.org/generated/seaborn.scatterplot.html\n",
        "\n",
        "  plt.xlabel(feature1, fontsize=14)\n",
        "  plt.ylabel(feature2, fontsize=14)\n",
        "  plt.title(feature1 + ' vs ' + feature2, fontsize=20)\n",
        "  plt.legend(bbox_to_anchor=(1.0, 1.0), loc='upper left')\n",
        "  plt.show()\n",
        "\n",
        "# TO DO call plot_scatter with different feature pairs to create some visualizations\n",
        "\n",
        "# Plotting 'culmen_length_mm' vs 'body_mass_g'\n",
        "plot_scatter('culmen_depth_mm', 'flipper_length_mm')\n",
        "\n",
        "# Plotting 'flipper_length_mm' vs 'culmen_depth_mm'\n",
        "plot_scatter('flipper_length_mm', 'culmen_length_mm')\n",
        "\n",
        "plot_scatter('flipper_length_mm', 'body_mass_g')"
      ],
      "metadata": {
        "id": "AGd0yEc_SINQ",
        "colab": {
          "base_uri": "https://localhost:8080/"
        },
        "outputId": "b34c78d5-a8b9-4c14-e6d0-55b5629eedc5"
      },
      "execution_count": null,
      "outputs": [
        {
          "output_type": "error",
          "ename": "NameError",
          "evalue": "name 'sns' is not defined",
          "traceback": [
            "\u001b[0;31m---------------------------------------------------------------------------\u001b[0m",
            "\u001b[0;31mNameError\u001b[0m                                 Traceback (most recent call last)",
            "\u001b[0;32m<ipython-input-1-10b8ec821da7>\u001b[0m in \u001b[0;36m<cell line: 23>\u001b[0;34m()\u001b[0m\n\u001b[1;32m     21\u001b[0m \u001b[0;34m\u001b[0m\u001b[0m\n\u001b[1;32m     22\u001b[0m \u001b[0;31m# Plotting 'culmen_length_mm' vs 'body_mass_g'\u001b[0m\u001b[0;34m\u001b[0m\u001b[0;34m\u001b[0m\u001b[0m\n\u001b[0;32m---> 23\u001b[0;31m \u001b[0mplot_scatter\u001b[0m\u001b[0;34m(\u001b[0m\u001b[0;34m'culmen_depth_mm'\u001b[0m\u001b[0;34m,\u001b[0m \u001b[0;34m'flipper_length_mm'\u001b[0m\u001b[0;34m)\u001b[0m\u001b[0;34m\u001b[0m\u001b[0;34m\u001b[0m\u001b[0m\n\u001b[0m\u001b[1;32m     24\u001b[0m \u001b[0;34m\u001b[0m\u001b[0m\n\u001b[1;32m     25\u001b[0m \u001b[0;31m# Plotting 'flipper_length_mm' vs 'culmen_depth_mm'\u001b[0m\u001b[0;34m\u001b[0m\u001b[0;34m\u001b[0m\u001b[0m\n",
            "\u001b[0;32m<ipython-input-1-10b8ec821da7>\u001b[0m in \u001b[0;36mplot_scatter\u001b[0;34m(feature1, feature2)\u001b[0m\n\u001b[1;32m      8\u001b[0m   \u001b[0mpalette\u001b[0m \u001b[0;34m=\u001b[0m \u001b[0;34m[\u001b[0m\u001b[0;34m\"red\"\u001b[0m\u001b[0;34m,\u001b[0m \u001b[0;34m\"blue\"\u001b[0m\u001b[0;34m,\u001b[0m \u001b[0;34m\"orange\"\u001b[0m\u001b[0;34m]\u001b[0m\u001b[0;34m\u001b[0m\u001b[0;34m\u001b[0m\u001b[0m\n\u001b[1;32m      9\u001b[0m \u001b[0;34m\u001b[0m\u001b[0m\n\u001b[0;32m---> 10\u001b[0;31m   sns.scatterplot(data=df_penguins, x = feature1, y = feature2,\n\u001b[0m\u001b[1;32m     11\u001b[0m                hue = 'species', palette=palette, alpha=0.8)\n\u001b[1;32m     12\u001b[0m   \u001b[0;31m# Doc: https://seaborn.pydata.org/generated/seaborn.scatterplot.html\u001b[0m\u001b[0;34m\u001b[0m\u001b[0;34m\u001b[0m\u001b[0m\n",
            "\u001b[0;31mNameError\u001b[0m: name 'sns' is not defined"
          ]
        }
      ]
    },
    {
      "cell_type": "markdown",
      "source": [
        "#### 3b\n",
        "Suppose you want to be able to identify the Gentoo species with a simple rule with very high accuracy.  Use a decision tree classifier to figure out such a rule that has only two checks (e.g. “mass greater than 4000 g, and culmen length less than 40 mm is Gentoo; otherwise, not”).   You can use the library DecisionTreeClassifier with either ‘gini’ or ‘entropy’ criterion. Use sklearn.tree.plot_tree with feature_names and class_names arguments to visualize the decision tree.  Include the tree that you used to find the rule in your report and the rule."
      ],
      "metadata": {
        "id": "VwLC5rpmDDlp"
      }
    },
    {
      "cell_type": "code",
      "source": [
        "from sklearn.tree import DecisionTreeClassifier, plot_tree\n",
        "from sklearn.model_selection import train_test_split\n",
        "from sklearn.metrics import classification_report\n",
        "\n",
        "# Prepare the data\n",
        "X, y, feature_names, class_names = get_penguin_xy(df_penguins)\n",
        "\n",
        "# Create and fit the classifier\n",
        "clf = DecisionTreeClassifier(max_depth=2, random_state=42)\n",
        "clf.fit(X, y)\n",
        "\n",
        "# Plot the tree\n",
        "plt.figure(figsize=(12,8))\n",
        "plot_tree(clf, feature_names=feature_names, class_names=class_names, filled=True)\n",
        "plt.show()\n",
        "\n",
        "# Make predictions\n",
        "y_pred = clf.predict(X_test)\n",
        "\n",
        "# Generate a classification report\n",
        "report = classification_report(y_test, y_pred, output_dict=True)\n",
        "\n",
        "# Extract precision and recall for the Gentoo species\n",
        "gentoo_precision = report['Gentoo']['precision']\n",
        "gentoo_recall = report['Gentoo']['recall']\n",
        "\n",
        "print(f'Gentoo Precision: {gentoo_precision}')\n",
        "print(f'Gentoo Recall: {gentoo_recall}')"
      ],
      "metadata": {
        "id": "5BEXQoDjDDPF",
        "colab": {
          "base_uri": "https://localhost:8080/",
          "height": 689
        },
        "outputId": "3edca873-8e8c-4624-e4b3-a625f9244b20"
      },
      "execution_count": null,
      "outputs": [
        {
          "output_type": "display_data",
          "data": {
            "text/plain": [
              "<Figure size 1200x800 with 1 Axes>"
            ],
            "image/png": "[encoded data removed]"
          },
          "metadata": {}
        },
        {
          "output_type": "stream",
          "name": "stdout",
          "text": [
            "Gentoo Precision: 1.0\n",
            "Gentoo Recall: 1.0\n"
          ]
        }
      ]
    },
    {
      "cell_type": "markdown",
      "source": [
        "#### 3c\n",
        "\n",
        "Use any method at your disposal to achieve maximum 5-fold cross-validation accuracy on this problem. To keep it simple, we will use sklearn.model_selection to perform the cross-validation for us. Report your model design and 5-fold accuracy.  It is possible to get more than 99% accuracy."
      ],
      "metadata": {
        "id": "9RIRmYltDHZV"
      }
    },
    {
      "cell_type": "code",
      "source": [
        "# design a classification model, import libraries as needed\n",
        "from sklearn.model_selection import cross_val_score\n",
        "from sklearn.ensemble import RandomForestClassifier\n",
        "\n",
        "X, y, feature_names, class_names = get_penguin_xy(df_penguins)\n",
        "\n",
        "# TO DO -- choose some model and fit the data\n",
        "model = RandomForestClassifier(n_estimators=100, random_state=42)\n",
        "\n",
        "scores = cross_val_score(model, np.array(X), np.array(y), cv=5)\n",
        "print('CV Accuracy: {}'.format(scores.mean()))\n",
        "\n"
      ],
      "metadata": {
        "id": "1qQ5TKOVS6DE"
      },
      "execution_count": null,
      "outputs": []
    },
    {
      "cell_type": "markdown",
      "source": [
        "## Part 4: Stretch Goals\n",
        "Include any new code needed for Part 4 here"
      ],
      "metadata": {
        "id": "3X3j_efPhh6e"
      }
    },
    {
      "cell_type": "code",
      "source": [
        "# TO DO (optional)\n",
        "\n",
        "\n",
        "import torch.optim as optim\n",
        "from torch.optim.lr_scheduler import StepLR\n",
        "from sklearn.metrics import accuracy_score\n",
        "\n",
        "from sklearn.model_selection import train_test_split\n",
        "\n",
        "# Load the data\n",
        "(x_train, y_train), (x_test, y_test) = load_mnist()\n",
        "\n",
        "# Split the training data into a training set and a validation set\n",
        "x_train, x_val, y_train, y_val = train_test_split(x_train, y_train, test_size=0.2, random_state=42)\n",
        "\n",
        "# Convert to PyTorch tensors\n",
        "x_train, y_train = torch.from_numpy(x_train), torch.from_numpy(y_train)\n",
        "x_val, y_val = torch.from_numpy(x_val), torch.from_numpy(y_val)\n",
        "x_test, y_test = torch.from_numpy(x_test), torch.from_numpy(y_test)\n",
        "\n",
        "# Define the MLP model\n",
        "class MLP(nn.Module):\n",
        "    def __init__(self):\n",
        "        super(MLP, self).__init__()\n",
        "        self.layers = nn.Sequential(\n",
        "            nn.Linear(28*28, 512),\n",
        "            nn.ReLU(),\n",
        "            nn.Linear(512, 256),\n",
        "            nn.ReLU(),\n",
        "            nn.Linear(256, 10),\n",
        "        )\n",
        "\n",
        "    def forward(self, x):\n",
        "        x = x.view(x.size(0), -1)\n",
        "        x = self.layers(x)\n",
        "        return x\n",
        "\n",
        "# Create the model\n",
        "model = MLP()\n",
        "\n",
        "# Define the loss function and optimizer\n",
        "criterion = nn.CrossEntropyLoss()\n",
        "optimizer = optim.Adam(model.parameters(), lr=0.001)\n",
        "scheduler = StepLR(optimizer, step_size=10, gamma=0.1)\n",
        "\n",
        "# Train the model\n",
        "for epoch in range(100):\n",
        "    optimizer.zero_grad()\n",
        "    outputs = model(x_train.float())\n",
        "    loss = criterion(outputs, y_train.long())\n",
        "    loss.backward()\n",
        "    optimizer.step()\n",
        "    scheduler.step()\n",
        "\n",
        "# Calculate validation error\n",
        "with torch.no_grad():\n",
        "    outputs = model(x_val.float())\n",
        "    _, predicted = torch.max(outputs.data, 1)\n",
        "    val_error = 1 - accuracy_score(y_val, predicted)\n",
        "\n",
        "print('Validation error: {:.2f}%'.format(val_error * 100))\n",
        "\n",
        "# Calculate test error\n",
        "with torch.no_grad():\n",
        "    outputs = model(x_test.float())\n",
        "    _, predicted = torch.max(outputs.data, 1)\n",
        "    test_error = 1 - accuracy_score(y_test, predicted)\n",
        "\n",
        "print('Test error: {:.2f}%'.format(test_error * 100))"
      ],
      "metadata": {
        "id": "b5SnDgjKVdLJ"
      },
      "execution_count": null,
      "outputs": []
    },
    {
      "cell_type": "code",
      "source": [
        "#question 2 is the stretch goal challenge\n",
        "import torch\n",
        "import torch.nn as nn\n",
        "import torch.optim as optim\n",
        "from PIL import Image\n",
        "import numpy as np\n",
        "import matplotlib.pyplot as plt\n",
        "\n",
        "# Load and resize the image\n",
        "\n",
        "drive.mount('/content/drive')\n",
        "\n",
        "# Specify the path to your image\n",
        "image_path = \"/content/drive/My Drive/Colab Notebooks/scotland_photo.jpg\"\n",
        "\n",
        "image = Image.open(image_path)\n",
        "image = image.resize((64, 64))\n",
        "image_data= np.array(image) / 255.0\n",
        "\n",
        "\n",
        "\n",
        "# Create sinusoidal positional encodings\n",
        "def create_positional_encoding(dim, length):\n",
        "    positional_encoding = np.zeros((length, dim))\n",
        "    for pos in range(length):\n",
        "        for i in range(0, dim, 2):\n",
        "            positional_encoding[pos, i] = np.sin(pos / (10000 ** ((2 * i) / dim)))\n",
        "            if i + 1 < dim:\n",
        "                positional_encoding[pos, i + 1] = np.cos(pos / (10000 ** ((2 * i) / dim)))\n",
        "    return positional_encoding\n",
        "\n",
        "# Create MLP\n",
        "class MLP(nn.Module):\n",
        "    def __init__(self, input_dim, hidden_dim, output_dim):\n",
        "        super(MLP, self).__init__()\n",
        "        self.layers = nn.Sequential(\n",
        "            nn.Linear(input_dim, hidden_dim),\n",
        "            nn.ReLU(),\n",
        "            nn.Linear(hidden_dim, hidden_dim),\n",
        "            nn.ReLU(),\n",
        "            nn.Linear(hidden_dim, hidden_dim),\n",
        "            nn.ReLU(),\n",
        "            nn.Linear(hidden_dim, hidden_dim),\n",
        "            nn.ReLU(),\n",
        "            nn.Linear(hidden_dim, output_dim),\n",
        "            nn.Sigmoid()\n",
        "        )\n",
        "\n",
        "    def forward(self, x):\n",
        "        return self.layers(x)\n",
        "\n",
        "# Prepare data\n",
        "encoding_dim = 16\n",
        "positional_encodings = create_positional_encoding(encoding_dim, 64)\n",
        "X = []\n",
        "y = []\n",
        "for i in range(64):\n",
        "    for j in range(64):\n",
        "        encoding = np.concatenate((positional_encodings[i], positional_encodings[j]))\n",
        "        X.append(encoding)\n",
        "        y.append(image_data[i, j])\n",
        "X = torch.tensor(X, dtype=torch.float32)\n",
        "y = torch.tensor(y, dtype=torch.float32)\n",
        "\n",
        "# Train MLP\n",
        "mlp = MLP(encoding_dim * 2, 256, 3)\n",
        "criterion = nn.MSELoss()\n",
        "optimizer = optim.Adam(mlp.parameters(), lr=0.01)\n",
        "for epoch in range(5000):\n",
        "    optimizer.zero_grad()\n",
        "    outputs = mlp(X)\n",
        "    loss = criterion(outputs, y)\n",
        "    loss.backward()\n",
        "    optimizer.step()\n",
        "\n",
        "# Generate and display the image\n",
        "generated_image = mlp(X).detach().numpy().reshape(64, 64, 3)\n",
        "plt.imshow(generated_image)\n",
        "plt.show()"
      ],
      "metadata": {
        "id": "8Or08gdke9Ib"
      },
      "execution_count": null,
      "outputs": []
    },
    {
      "cell_type": "code",
      "source": [
        "import torch\n",
        "import torch.nn as nn\n",
        "import torch.optim as optim\n",
        "import numpy as np\n",
        "from PIL import Image\n",
        "import matplotlib.pyplot as plt\n",
        "\n",
        "# Define the MLP\n",
        "class MLP(nn.Module):\n",
        "    def __init__(self, input_dim, hidden_dim, output_dim):\n",
        "        super(MLP, self).__init__()\n",
        "        self.layers = nn.Sequential(\n",
        "            nn.Linear(input_dim, hidden_dim),\n",
        "            nn.ReLU(),\n",
        "            nn.Linear(hidden_dim, hidden_dim),\n",
        "            nn.ReLU(),\n",
        "            nn.Linear(hidden_dim, hidden_dim),\n",
        "            nn.ReLU(),\n",
        "            nn.Linear(hidden_dim, hidden_dim),\n",
        "            nn.ReLU(),\n",
        "            nn.Linear(hidden_dim, output_dim),\n",
        "            nn.Sigmoid()\n",
        "        )\n",
        "\n",
        "    def forward(self, x):\n",
        "        return self.layers(x)\n",
        "drive.mount('/content/drive')\n",
        "\n",
        "# Specify the path to your image\n",
        "image_path = \"/content/drive/My Drive/Colab Notebooks/scotland_photo.jpg\"\n",
        "\n",
        "image = Image.open(image_path)\n",
        "image = image.resize((64, 64))\n",
        "image_data= np.array(image) / 255.0\n",
        "\n",
        "# Create the positional encodings\n",
        "X = []\n",
        "y = []\n",
        "for i in range(64):\n",
        "    for j in range(64):\n",
        "        X.append([i / 64.0, j / 64.0])  # Normalize to [0, 1]\n",
        "        y.append(image_data[i, j])\n",
        "\n",
        "X = torch.Tensor(X)\n",
        "y = torch.Tensor(y)\n",
        "\n",
        "# Create the MLP\n",
        "mlp = MLP(2, 256, 3)\n",
        "\n",
        "# Define the loss function and optimizer\n",
        "criterion = nn.MSELoss()\n",
        "optimizer = optim.Adam(mlp.parameters())\n",
        "\n",
        "# Train the MLP\n",
        "for epoch in range(5000):\n",
        "    optimizer.zero_grad()\n",
        "    outputs = mlp(X)\n",
        "    loss = criterion(outputs, y)\n",
        "    loss.backward()\n",
        "    optimizer.step()\n",
        "\n",
        "# Generate the image\n",
        "generated_image_data = mlp(X).detach().numpy()\n",
        "generated_image = (generated_image_data * 255).astype(np.uint8).reshape(64, 64, 3)\n",
        "\n",
        "# Display the image using matplotlib\n",
        "plt.imshow(generated_image)\n",
        "plt.show()"
      ],
      "metadata": {
        "colab": {
          "base_uri": "https://localhost:8080/",
          "height": 470
        },
        "id": "jnTDNpzwpVaS",
        "outputId": "28b783fb-81e4-4744-ae13-1e4b54ab88e3"
      },
      "execution_count": null,
      "outputs": [
        {
          "output_type": "stream",
          "name": "stdout",
          "text": [
            "Drive already mounted at /content/drive; to attempt to forcibly remount, call drive.mount(\"/content/drive\", force_remount=True).\n"
          ]
        },
        {
          "output_type": "display_data",
          "data": {
            "text/plain": [
              "<Figure size 640x480 with 1 Axes>"
            ],
            "image/png": "[encoded data removed]"
          },
          "metadata": {}
        }
      ]
    },
    {
      "cell_type": "code",
      "source": [
        "# from https://gist.github.com/jonathanagustin/b67b97ef12c53a8dec27b343dca4abba\n",
        "# install can take a minute\n",
        "\n",
        "import os\n",
        "# @title Convert Notebook to PDF. Save Notebook to given directory\n",
        "NOTEBOOKS_DIR = \"/content/drive/My Drive/Colab Notebooks/\" # @param {type:\"string\"}\n",
        "NOTEBOOK_NAME = \"Copy of CS441_SP24_HW4_Starter.ipynb\" # @param {type:\"string\"}\n",
        "#------------------------------------------------------------------------------#\n",
        "from google.colab import drive\n",
        "drive.mount(\"/content/drive/\", force_remount=True)\n",
        "NOTEBOOK_PATH = f\"{NOTEBOOKS_DIR}/{NOTEBOOK_NAME}\"\n",
        "assert os.path.exists(NOTEBOOK_PATH), f\"NOTEBOOK NOT FOUND: {NOTEBOOK_PATH}\"\n",
        "!apt install -y texlive-xetex texlive-fonts-recommended texlive-plain-generic > /dev/null 2>&1\n",
        "!jupyter nbconvert \"$NOTEBOOK_PATH\" --to pdf > /dev/null 2>&1\n",
        "NOTEBOOK_PDF = NOTEBOOK_PATH.rsplit('.', 1)[0] + '.pdf'\n",
        "assert os.path.exists(NOTEBOOK_PDF), f\"ERROR MAKING PDF: {NOTEBOOK_PDF}\"\n",
        "print(f\"PDF CREATED: {NOTEBOOK_PDF}\")"
      ],
      "metadata": {
        "id": "DwOqlBwgEJfa",
        "colab": {
          "base_uri": "https://localhost:8080/"
        },
        "outputId": "1e474145-c976-400e-b25c-e3fa1af39a74"
      },
      "execution_count": null,
      "outputs": [
        {
          "output_type": "stream",
          "name": "stdout",
          "text": [
            "Mounted at /content/drive/\n",
            "PDF CREATED: /content/drive/My Drive/Colab Notebooks//Copy of CS441_SP24_HW4_Starter.pdf\n"
          ]
        }
      ]
    }
  ],
  "metadata": {
    "colab": {
      "provenance": [],
      "gpuType": "T4"
    },
    "kernelspec": {
      "display_name": "Python 3",
      "name": "python3"
    },
    "language_info": {
      "codemirror_mode": {
        "name": "ipython",
        "version": 3
      },
      "file_extension": ".py",
      "mimetype": "text/x-python",
      "name": "python",
      "nbconvert_exporter": "python",
      "pygments_lexer": "ipython3",
      "version": "3.7.6"
    },
    "accelerator": "GPU"
  },
  "nbformat": 4,
  "nbformat_minor": 0
}